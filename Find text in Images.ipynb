{
 "cells": [
  {
   "cell_type": "code",
   "execution_count": 1,
   "metadata": {},
   "outputs": [],
   "source": [
    "import pytesseract\n",
    "pytesseract.pytesseract.tesseract_cmd=r\"C:\\Program Files\\Tesseract-OCR\\tesseract.exe\""
   ]
  },
  {
   "cell_type": "code",
   "execution_count": 2,
   "metadata": {},
   "outputs": [],
   "source": [
    "import cv2\n"
   ]
  },
  {
   "cell_type": "code",
   "execution_count": 3,
   "metadata": {},
   "outputs": [],
   "source": [
    "img = cv2.imread(r\"C:/Users/khana/OneDrive/Pictures/fancytextguru.png\")\n",
    "cv2.imshow(\"Sample image\", img)\n",
    "cv2.waitKey(0)\n",
    "cv2.destroyAllWindows()\n"
   ]
  },
  {
   "cell_type": "code",
   "execution_count": 4,
   "metadata": {},
   "outputs": [],
   "source": [
    "text = pytesseract.image_to_string(img)"
   ]
  },
  {
   "cell_type": "code",
   "execution_count": 6,
   "metadata": {},
   "outputs": [
    {
     "name": "stdout",
     "output_type": "stream",
     "text": [
      "(Yo Vos Tug Cro Tg Teg xg Ut\n",
      "\n",
      "TLE ||X|[T|\n",
      "QOMOOO@MOOO\n",
      "x9T JOY Your Tex—k YourFext\n",
      "\n",
      " \n",
      "\n",
      "  \n",
      " \n",
      " \n",
      "\n",
      "www.fancytextguru.com\n"
     ]
    }
   ],
   "source": [
    "print(text)"
   ]
  },
  {
   "cell_type": "code",
   "execution_count": 7,
   "metadata": {},
   "outputs": [],
   "source": [
    "img = cv2.imread(r\"C:/Users/khana/OneDrive/Pictures/paper13456788.png\")\n",
    "cv2.imshow(\"Sample image\", img)\n",
    "cv2.waitKey(0)\n",
    "cv2.destroyAllWindows()\n"
   ]
  },
  {
   "cell_type": "code",
   "execution_count": 8,
   "metadata": {},
   "outputs": [],
   "source": [
    "text = pytesseract.image_to_string(img)"
   ]
  },
  {
   "cell_type": "code",
   "execution_count": 9,
   "metadata": {},
   "outputs": [
    {
     "name": "stdout",
     "output_type": "stream",
     "text": [
      "important role in WSN based target tracking applications. When the target is tracked by\n",
      "number sensor nodes, massive redundant data are produced, which may lead to degrade the\n",
      "network performance. To mitigate the barriers of the traditional coverage algorithms,\n",
      "particularly if a sensor node failed, the major intention of coverage and connectivity\n",
      "optimization model needs to be select less number of potential position to deploy a sensor\n",
      "node with maximum direct sensor node connectivity. This paper proposed an Improved\n",
      "Gravitational Search algorithm (IGSA) based model to optimize the coverage and\n",
      "connectivity requirements in target based WSNs. The basic Gravitational search algorithm\n",
      "performance is improved by the adaptation of escape velocity operator and\n",
      "dynamic behaviour of Particle swarm optimization (PSO) algorithm. Finally, the relative\n",
      "performance of proposed IGSA based optimization model is validated and compared to other\n",
      "optimization algorithms with random deployment model based on number of active sensors\n",
      "and rate of uncovered area.\n",
      "\n",
      "Keywords: Wireless Sensor Networks, sensor deployment, target coverage, Improved\n",
      "Gravitational Search Algorithm, Particle swarm optimization, Escape Velocity Operator\n",
      "\n",
      "1. Introduction\n",
      "\n",
      "Wireless Sensor Networks (WSNs) comprises massive range of minimal cost sensor\n",
      "nodes present in the network region which comprises severely limited capabilities in terms of\n",
      "observation, transmission and computation [1]. The normal lifetime of sensor and the\n",
      "complete utilization of bandwidth is maintained by minimizing the level of data forwarding\n",
      "by the usage of resource restricted sensor nodes [2]. In WSN, the coverage requires to ensure\n",
      "that the entire network field is observed with the necessary grade of dependability. Coverage\n",
      "issues can be categorized into target coverage issue and area coverage problem. In the target\n",
      "coverage issue, just an arrangement of specific points or targets are observed. The deployed\n",
      "sensors need to check the specified region in the area coverage problem. For WSNs, coverage\n",
      "is a standout amongst the most imperative performance parameter which reflect how far a\n"
     ]
    }
   ],
   "source": [
    "print(text)"
   ]
  },
  {
   "cell_type": "code",
   "execution_count": null,
   "metadata": {},
   "outputs": [],
   "source": []
  }
 ],
 "metadata": {
  "kernelspec": {
   "display_name": "Python 3",
   "language": "python",
   "name": "python3"
  },
  "language_info": {
   "codemirror_mode": {
    "name": "ipython",
    "version": 3
   },
   "file_extension": ".py",
   "mimetype": "text/x-python",
   "name": "python",
   "nbconvert_exporter": "python",
   "pygments_lexer": "ipython3",
   "version": "3.7.4"
  }
 },
 "nbformat": 4,
 "nbformat_minor": 2
}
